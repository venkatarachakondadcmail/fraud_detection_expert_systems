{
 "cells": [
  {
   "cell_type": "markdown",
   "metadata": {},
   "source": [
    "# Rules-Based System (RBS) For Transaction Fraud Detection"
   ]
  },
  {
   "cell_type": "markdown",
   "metadata": {},
   "source": [
    "---"
   ]
  },
  {
   "cell_type": "markdown",
   "metadata": {},
   "source": [
    "## Table of contents\n",
    "\n",
    "1. [Read/process data](#ReadProcessData)\n",
    "2. [Rule Generation](#RuleGeneration)\n",
    "3. [Rule Optimisation](#RuleOptimisation)\n",
    "4. [Combine rules and remove those which are unnecessary](#CombineRules)\n",
    "5. [Set up the RBS Pipeline](#SetUpPipeline)\n",
    "6. [Optimise the RBS Pipeline](#OptimiseThePipeline)\n",
    "7. [Filter rules for the optimised RBS Pipeline](#FilterRulesForPipeline)\n",
    "8. [Apply the optimised RBS Pipeline to the test set](#ApplyPipeline)\n",
    "9. [Convert generated rule conditions to system-ready](#ConvertGenToSys)\n",
    "10. [Our final rule set and RBS Pipeline](#FinalRuleSet)\n",
    "11. [There's an easier (and better) way!](#BetterWay)"
   ]
  },
  {
   "cell_type": "markdown",
   "metadata": {},
   "source": [
    "----"
   ]
  },
  {
   "cell_type": "markdown",
   "metadata": {},
   "source": [
    "## Import packages"
   ]
  },
  {
   "cell_type": "code",
   "execution_count": 1,
   "metadata": {},
   "outputs": [],
   "source": [
    "from iguanas.rule_generation import RuleGeneratorDT\n",
    "from iguanas.rule_optimisation import BayesianOptimiser\n",
    "from iguanas.metrics.classification import FScore, Precision\n",
    "from iguanas.metrics.pairwise import JaccardSimilarity\n",
    "from iguanas.rules import Rules, ConvertProcessedConditionsToGeneral, ReturnMappings\n",
    "from iguanas.correlation_reduction import AgglomerativeClusteringReducer\n",
    "from iguanas.rule_selection import SimpleFilter, GreedyFilter, CorrelatedFilter\n",
    "from iguanas.rbs import RBSPipeline, RBSOptimiser\n",
    "\n",
    "import pandas as pd\n",
    "import numpy as np\n",
    "from sklearn.model_selection import train_test_split\n",
    "from category_encoders.one_hot import OneHotEncoder\n",
    "from sklearn.ensemble import RandomForestClassifier\n",
    "import pickle\n",
    "from sklearn.metrics import confusion_matrix, ConfusionMatrixDisplay, classification_report\n",
    "import seaborn as sns\n",
    "\n",
    "sns.set_style('white')"
   ]
  },
  {
   "cell_type": "markdown",
   "metadata": {},
   "source": [
    "---"
   ]
  },
  {
   "cell_type": "markdown",
   "metadata": {},
   "source": [
    "## Importing the data <a name=\"ReadProcessData\"></a>"
   ]
  },
  {
   "cell_type": "code",
   "execution_count": 2,
   "metadata": {},
   "outputs": [],
   "source": [
    "data = pd.read_csv('data/transactions.csv', index_col='eid')"
   ]
  },
  {
   "cell_type": "code",
   "execution_count": 3,
   "metadata": {},
   "outputs": [
    {
     "data": {
      "text/plain": [
       "(13276, 28)"
      ]
     },
     "execution_count": 3,
     "metadata": {},
     "output_type": "execute_result"
    }
   ],
   "source": [
    "data.shape"
   ]
  },
  {
   "cell_type": "markdown",
   "metadata": {},
   "source": [
    "Then we can split the data into features (*X*) and the target column (*y*):"
   ]
  },
  {
   "cell_type": "code",
   "execution_count": 4,
   "metadata": {},
   "outputs": [],
   "source": [
    "fraud_column = 'is_fraud'\n",
    "X = data.drop(\n",
    "    fraud_column, \n",
    "    axis=1\n",
    ")\n",
    "y = data[fraud_column]"
   ]
  },
  {
   "cell_type": "markdown",
   "metadata": {},
   "source": [
    "### Process the data"
   ]
  },
  {
   "cell_type": "markdown",
   "metadata": {},
   "source": [
    "#### Train/test split"
   ]
  },
  {
   "cell_type": "markdown",
   "metadata": {},
   "source": [
    "Before applying any data processing steps, we should split the data into training and test sets:"
   ]
  },
  {
   "cell_type": "code",
   "execution_count": 6,
   "metadata": {},
   "outputs": [],
   "source": [
    "X_train, X_test, y_train, y_test = train_test_split(X, y, test_size=0.3, random_state=0)"
   ]
  },
  {
   "cell_type": "code",
   "execution_count": 7,
   "metadata": {},
   "outputs": [
    {
     "data": {
      "text/plain": [
       "((9293, 27), (3983, 27))"
      ]
     },
     "execution_count": 7,
     "metadata": {},
     "output_type": "execute_result"
    }
   ],
   "source": [
    "X_train.shape, X_test.shape"
   ]
  },
  {
   "cell_type": "markdown",
   "metadata": {},
   "source": [
    "##### Impute null values"
   ]
  },
  {
   "cell_type": "markdown",
   "metadata": {},
   "source": [
    "We can now impute the null values. You can use any imputation method you like - here we'll impute using the following methodology:\n",
    "\n",
    "* Impute numeric values with -1.\n",
    "* Impute categorical features with the category 'missing'.\n",
    "* Impute boolean features with 'missing'."
   ]
  },
  {
   "cell_type": "code",
   "execution_count": 8,
   "metadata": {},
   "outputs": [
    {
     "name": "stdout",
     "output_type": "stream",
     "text": [
      "Number of null values in X_train: 4990\n"
     ]
    }
   ],
   "source": [
    "print(\"Number of null values in X_train:\", X_train.isna().sum().sum())"
   ]
  },
  {
   "cell_type": "code",
   "execution_count": 9,
   "metadata": {},
   "outputs": [],
   "source": [
    "num_cols = X_train.select_dtypes(include=np.number).columns.tolist()\n",
    "cat_cols = X_train.select_dtypes(include=object).columns.tolist()\n",
    "bool_cols = X_train.select_dtypes(include=bool).columns.tolist()"
   ]
  },
  {
   "cell_type": "code",
   "execution_count": 10,
   "metadata": {},
   "outputs": [],
   "source": [
    "X_train[bool_cols] = X_train[bool_cols].astype(object)\n",
    "X_test[bool_cols] = X_test[bool_cols].astype(object)"
   ]
  },
  {
   "cell_type": "code",
   "execution_count": 11,
   "metadata": {},
   "outputs": [],
   "source": [
    "X_train.loc[:, num_cols] = X_train.loc[:, num_cols].fillna(-1)\n",
    "X_train.loc[:, cat_cols] = X_train.loc[:, cat_cols].fillna('missing')\n",
    "X_train.loc[:, bool_cols] = X_train.loc[:, bool_cols].fillna('missing')\n",
    "X_test.loc[:, num_cols] = X_test.loc[:, num_cols].fillna(-1)\n",
    "X_test.loc[:, cat_cols] = X_test.loc[:, cat_cols].fillna('missing')\n",
    "X_test.loc[:, bool_cols] = X_test.loc[:, bool_cols].fillna('missing')"
   ]
  },
  {
   "cell_type": "code",
   "execution_count": 12,
   "metadata": {},
   "outputs": [
    {
     "name": "stdout",
     "output_type": "stream",
     "text": [
      "Number of null values in X_train: 0\n"
     ]
    }
   ],
   "source": [
    "print(\"Number of null values in X_train:\", X_train.isna().sum().sum())"
   ]
  },
  {
   "cell_type": "markdown",
   "metadata": {},
   "source": [
    "##### One hot encode categorical features"
   ]
  },
  {
   "cell_type": "markdown",
   "metadata": {},
   "source": [
    "Now we can one hot encode the categorical features:"
   ]
  },
  {
   "cell_type": "code",
   "execution_count": 13,
   "metadata": {},
   "outputs": [],
   "source": [
    "ohe = OneHotEncoder(use_cat_names=True)"
   ]
  },
  {
   "cell_type": "code",
   "execution_count": 14,
   "metadata": {},
   "outputs": [],
   "source": [
    "ohe.fit(X_train)\n",
    "X_train = ohe.transform(X_train)\n",
    "X_test = ohe.transform(X_test)"
   ]
  },
  {
   "cell_type": "code",
   "execution_count": 15,
   "metadata": {},
   "outputs": [
    {
     "data": {
      "text/plain": [
       "((9293, 29), (3983, 29))"
      ]
     },
     "execution_count": 15,
     "metadata": {},
     "output_type": "execute_result"
    }
   ],
   "source": [
    "X_train.shape, X_test.shape"
   ]
  },
  {
   "cell_type": "markdown",
   "metadata": {},
   "source": [
    "---"
   ]
  },
  {
   "cell_type": "markdown",
   "metadata": {},
   "source": [
    "## Rule generation <a name=\"RuleGeneration\"></a>"
   ]
  },
  {
   "cell_type": "code",
   "execution_count": 16,
   "metadata": {},
   "outputs": [],
   "source": [
    "p = Precision()\n",
    "f1 = FScore(beta=1)"
   ]
  },
  {
   "cell_type": "markdown",
   "metadata": {},
   "source": [
    "### Setup Class Parameters"
   ]
  },
  {
   "cell_type": "code",
   "execution_count": 17,
   "metadata": {},
   "outputs": [],
   "source": [
    "params = {\n",
    "    'metric': f1.fit,\n",
    "    'n_total_conditions': 4,   \n",
    "    'tree_ensemble': RandomForestClassifier(n_estimators=10, random_state=0),\n",
    "    'target_feat_corr_types': 'Infer',\n",
    "    'num_cores': 4,\n",
    "    'verbose': 1\n",
    "}"
   ]
  },
  {
   "cell_type": "markdown",
   "metadata": {},
   "source": [
    "### Instantiate class and run fit method"
   ]
  },
  {
   "cell_type": "code",
   "execution_count": 18,
   "metadata": {},
   "outputs": [],
   "source": [
    "rg = RuleGeneratorDT(**params)"
   ]
  },
  {
   "cell_type": "code",
   "execution_count": 19,
   "metadata": {},
   "outputs": [
    {
     "name": "stdout",
     "output_type": "stream",
     "text": [
      "--- Calculating correlation of features with respect to the target ---\n",
      "--- Returning column datatypes ---\n",
      "--- Training tree ensemble ---\n",
      "--- Extracting rules from tree ensemble ---\n",
      "100%|██████████| 10/10 [00:02<00:00,  3.87it/s]\n"
     ]
    }
   ],
   "source": [
    "X_rules_gen_train = rg.fit(\n",
    "    X=X_train, \n",
    "    y=y_train\n",
    ")"
   ]
  },
  {
   "cell_type": "markdown",
   "metadata": {},
   "source": [
    "----"
   ]
  },
  {
   "cell_type": "markdown",
   "metadata": {},
   "source": [
    "## Rule Optimisation <a name=\"RuleOptimisation\"></a>"
   ]
  },
  {
   "cell_type": "code",
   "execution_count": 22,
   "metadata": {},
   "outputs": [],
   "source": [
    "with open('data/rule_strings.pkl', 'rb') as f:\n",
    "    rule_strings = pickle.load(f)\n",
    "\n",
    "existing_rules = Rules(rule_strings=rule_strings)\n",
    "existing_rule_lambdas = existing_rules.as_rule_lambdas(as_numpy=False, with_kwargs=True)"
   ]
  },
  {
   "cell_type": "markdown",
   "metadata": {},
   "source": [
    "### Set up class parameters"
   ]
  },
  {
   "cell_type": "code",
   "execution_count": 25,
   "metadata": {},
   "outputs": [],
   "source": [
    "params = {\n",
    "    'rule_lambdas': existing_rule_lambdas,\n",
    "    'lambda_kwargs': existing_rules.lambda_kwargs,\n",
    "    'metric': f1.fit,\n",
    "    'n_iter': 10,\n",
    "    'num_cores': 4,\n",
    "    'verbose': 1\n",
    "}"
   ]
  },
  {
   "cell_type": "markdown",
   "metadata": {},
   "source": [
    "### Instantiate class and run fit method"
   ]
  },
  {
   "cell_type": "code",
   "execution_count": 26,
   "metadata": {},
   "outputs": [],
   "source": [
    "ro = BayesianOptimiser(**params)\n",
    "\n",
    "X_rules_opt_train = ro.fit(\n",
    "    X=X.loc[X_train.index], \n",
    "    y=y_train\n",
    ")"
   ]
  },
  {
   "cell_type": "markdown",
   "metadata": {},
   "source": [
    "---"
   ]
  },
  {
   "cell_type": "markdown",
   "metadata": {},
   "source": [
    "## Combine rules and remove those which are unnecessary <a name=\"CombineRules\"></a>"
   ]
  },
  {
   "cell_type": "markdown",
   "metadata": {},
   "source": [
    "We now have two sets of rules:\n",
    "\n",
    "1. Newly generated rules\n",
    "2. Optimised existing rules\n",
    "\n",
    "We can combine these rule sets, then apply correlation reduction and filtering methods to remove those which are unneccesary:"
   ]
  },
  {
   "cell_type": "code",
   "execution_count": 72,
   "metadata": {},
   "outputs": [],
   "source": [
    "# Combine the binary columns of each rule set\n",
    "X_rules_train = pd.concat([\n",
    "    X_rules_gen_train, \n",
    "    X_rules_opt_train\n",
    "], axis=1)"
   ]
  },
  {
   "cell_type": "code",
   "execution_count": 30,
   "metadata": {},
   "outputs": [
    {
     "data": {
      "text/plain": [
       "(9293, 48)"
      ]
     },
     "execution_count": 30,
     "metadata": {},
     "output_type": "execute_result"
    }
   ],
   "source": [
    "X_rules_train.shape"
   ]
  },
  {
   "cell_type": "markdown",
   "metadata": {},
   "source": [
    "### Use Standard filter"
   ]
  },
  {
   "cell_type": "code",
   "execution_count": 31,
   "metadata": {},
   "outputs": [],
   "source": [
    "fr = SimpleFilter(\n",
    "    threshold=0.01,\n",
    "    operator='>=',\n",
    "    metric=f1.fit,\n",
    ")\n",
    "\n",
    "X_rules_train = fr.fit_transform(\n",
    "    X_rules=X_rules_train, \n",
    "    y=y_train\n",
    ")"
   ]
  },
  {
   "cell_type": "code",
   "execution_count": 33,
   "metadata": {},
   "outputs": [
    {
     "data": {
      "text/plain": [
       "(9293, 44)"
      ]
     },
     "execution_count": 33,
     "metadata": {},
     "output_type": "execute_result"
    }
   ],
   "source": [
    "X_rules_train.shape"
   ]
  },
  {
   "cell_type": "markdown",
   "metadata": {},
   "source": [
    "### Remove correlated rules"
   ]
  },
  {
   "cell_type": "code",
   "execution_count": 34,
   "metadata": {},
   "outputs": [],
   "source": [
    "js = JaccardSimilarity()\n",
    "\n",
    "acfr = AgglomerativeClusteringReducer(\n",
    "    threshold=0.75,\n",
    "    strategy='bottom_up', \n",
    "    similarity_function=js.fit, \n",
    "    metric=f1.fit\n",
    ")"
   ]
  },
  {
   "cell_type": "code",
   "execution_count": 36,
   "metadata": {},
   "outputs": [],
   "source": [
    "fcr = CorrelatedFilter(correlation_reduction_class=acfr)\n",
    "\n",
    "X_rules_train = fcr.fit_transform(\n",
    "    X_rules=X_rules_train,\n",
    "    y=y_train\n",
    ")"
   ]
  },
  {
   "cell_type": "code",
   "execution_count": 38,
   "metadata": {},
   "outputs": [
    {
     "data": {
      "text/plain": [
       "(9293, 32)"
      ]
     },
     "execution_count": 38,
     "metadata": {},
     "output_type": "execute_result"
    }
   ],
   "source": [
    "X_rules_train.shape"
   ]
  },
  {
   "cell_type": "markdown",
   "metadata": {},
   "source": [
    "### Use Greedy filter"
   ]
  },
  {
   "cell_type": "code",
   "execution_count": 39,
   "metadata": {},
   "outputs": [],
   "source": [
    "gf = GreedyFilter(\n",
    "    metric=f1.fit, \n",
    "    sorting_metric=p.fit,\n",
    "    verbose=1\n",
    ")\n",
    "\n",
    "X_rules_train = gf.fit_transform(\n",
    "    X_rules=X_rules_train, \n",
    "    y=y_train\n",
    ")"
   ]
  },
  {
   "cell_type": "code",
   "execution_count": 41,
   "metadata": {},
   "outputs": [
    {
     "data": {
      "image/png": "[encoded data removed]",
      "text/plain": [
       "<Figure size 720x360 with 1 Axes>"
      ]
     },
     "metadata": {
      "needs_background": "light"
     },
     "output_type": "display_data"
    }
   ],
   "source": [
    "gf.plot_top_n_performance_on_train()"
   ]
  },
  {
   "cell_type": "markdown",
   "metadata": {},
   "source": [
    "The graph shows that when the rules are sorted by precision, then the F1 score is calculated for the top n combined rules, the combined performance begins to plateau/drop. So the algorithm will only keep those rules that deliver the maximum combined performance (and drop the rest)."
   ]
  },
  {
   "cell_type": "code",
   "execution_count": 42,
   "metadata": {},
   "outputs": [
    {
     "data": {
      "text/plain": [
       "(9293, 18)"
      ]
     },
     "execution_count": 42,
     "metadata": {},
     "output_type": "execute_result"
    }
   ],
   "source": [
    "X_rules_train.shape"
   ]
  },
  {
   "cell_type": "markdown",
   "metadata": {},
   "source": [
    "----"
   ]
  },
  {
   "cell_type": "markdown",
   "metadata": {},
   "source": [
    "## Set up the RBS Pipeline <a name=\"SetUpPipeline\"></a>"
   ]
  },
  {
   "cell_type": "markdown",
   "metadata": {},
   "source": [
    "Now, let's set up our RBS Pipeline using our combined, filtered rule set. In this case, we'll go for a simple approach:\n",
    "\n",
    "1. If any rules trigger, reject the transaction.\n",
    "2. If no rules trigger, approve any remaining transactions.\n",
    "\n",
    "To set up the pipeline using the logic above, we first need to create the `config` parameter. This is just a list which outlines the stages of the pipeline. Each stage should be defined using a tuple of two elements: \n",
    "\n",
    "1. The first element should be an integer which corresponds to the decision made at that stage (either `0` or `1`).\n",
    "2. The second element should be a list that dictates which rules should trigger for that decision to be made.\n"
   ]
  },
  {
   "cell_type": "code",
   "execution_count": 43,
   "metadata": {},
   "outputs": [],
   "source": [
    "config = [\n",
    "    (1, X_rules_train.columns.tolist())\n",
    "]"
   ]
  },
  {
   "cell_type": "markdown",
   "metadata": {},
   "source": [
    "Here, the first stage is configured via the tuple in the first element of the list. This says to apply a decision of `1` (i.e. reject) to transactions where the any of the rules have triggered.\n",
    "\n",
    "We also need to specify the final decision to be made if no rules are triggered - this is set via the `final_decision` parameter. In our case this should be `0`, as we want to approve any remaining transactions:"
   ]
  },
  {
   "cell_type": "code",
   "execution_count": 44,
   "metadata": {},
   "outputs": [],
   "source": [
    "final_decision = 0"
   ]
  },
  {
   "cell_type": "markdown",
   "metadata": {},
   "source": [
    "With these parameters configured, we can now instantiate our `RBSPipeline` class:"
   ]
  },
  {
   "cell_type": "code",
   "execution_count": 45,
   "metadata": {},
   "outputs": [],
   "source": [
    "rbsp = RBSPipeline(\n",
    "    config=config,\n",
    "    final_decision=final_decision\n",
    ")"
   ]
  },
  {
   "cell_type": "markdown",
   "metadata": {},
   "source": [
    "---"
   ]
  },
  {
   "cell_type": "markdown",
   "metadata": {},
   "source": [
    "## Optimise the RBS Pipeline <a name=\"OptimiseThePipeline\"></a>"
   ]
  },
  {
   "cell_type": "markdown",
   "metadata": {},
   "source": [
    "Now that we have our RBS Pipeline set up, we can optimise it using the RBS Optimiser. Here, we just pass the instatiated pipeline class to the `pipeline` parameter:"
   ]
  },
  {
   "cell_type": "code",
   "execution_count": 46,
   "metadata": {},
   "outputs": [],
   "source": [
    "rbso = RBSOptimiser(\n",
    "    pipeline=rbsp, \n",
    "    metric=f1.fit,\n",
    "    n_iter=60, \n",
    "    verbose=1\n",
    ")"
   ]
  },
  {
   "cell_type": "markdown",
   "metadata": {},
   "source": [
    "Then we run the `fit_transform` method to optimise the pipeline using the given dataset, then apply it to the dataset:"
   ]
  },
  {
   "cell_type": "code",
   "execution_count": 47,
   "metadata": {},
   "outputs": [
    {
     "name": "stdout",
     "output_type": "stream",
     "text": [
      "100%|██████████| 60/60 [00:00<00:00, 67.58trial/s, best loss: -0.9980582524271845] \n"
     ]
    }
   ],
   "source": [
    "pipe_pred_train = rbso.fit_predict(\n",
    "    X_rules=X_rules_train, \n",
    "    y=y_train\n",
    ")"
   ]
  },
  {
   "cell_type": "code",
   "execution_count": 48,
   "metadata": {},
   "outputs": [
    {
     "data": {
      "text/plain": [
       "[(1,\n",
       "  ['RGDT_Rule256',\n",
       "   'RGDT_Rule35',\n",
       "   'RGDT_Rule313',\n",
       "   'RGDT_Rule24',\n",
       "   'RGDT_Rule153',\n",
       "   'RGDT_Rule_20220803_23',\n",
       "   'RGDT_Rule137'])]"
      ]
     },
     "execution_count": 48,
     "metadata": {},
     "output_type": "execute_result"
    }
   ],
   "source": [
    "rbso.config"
   ]
  },
  {
   "cell_type": "markdown",
   "metadata": {},
   "source": [
    "### Rules Evaluation"
   ]
  },
  {
   "cell_type": "code",
   "execution_count": 49,
   "metadata": {},
   "outputs": [
    {
     "name": "stdout",
     "output_type": "stream",
     "text": [
      "              precision    recall  f1-score   support\n",
      "\n",
      "         0.0     0.9936    0.9999    0.9967      9036\n",
      "         1.0     0.9950    0.7743    0.8709       257\n",
      "\n",
      "    accuracy                         0.9937      9293\n",
      "   macro avg     0.9943    0.8871    0.9338      9293\n",
      "weighted avg     0.9937    0.9937    0.9933      9293\n",
      "\n"
     ]
    }
   ],
   "source": [
    "print(\n",
    "    classification_report(\n",
    "        y_true=y_train, \n",
    "        y_pred=pipe_pred_train, \n",
    "        digits=4\n",
    "    )\n",
    ")"
   ]
  },
  {
   "cell_type": "code",
   "execution_count": 51,
   "metadata": {},
   "outputs": [
    {
     "data": {
      "text/plain": [
       "<sklearn.metrics._plot.confusion_matrix.ConfusionMatrixDisplay at 0x19967da99d0>"
      ]
     },
     "execution_count": 51,
     "metadata": {},
     "output_type": "execute_result"
    },
    {
     "data": {
      "image/png": "[encoded data removed]",
      "text/plain": [
       "<Figure size 432x288 with 2 Axes>"
      ]
     },
     "metadata": {},
     "output_type": "display_data"
    }
   ],
   "source": [
    "cm = ConfusionMatrixDisplay(\n",
    "    confusion_matrix(\n",
    "        y_true=y_train, \n",
    "        y_pred=pipe_pred_train\n",
    "    )\n",
    ")\n",
    "cm.plot()"
   ]
  },
  {
   "cell_type": "markdown",
   "metadata": {},
   "source": [
    "----"
   ]
  },
  {
   "cell_type": "markdown",
   "metadata": {},
   "source": [
    "## Filter rules for the optimised RBS Pipeline <a name=\"FilterRulesForPipeline\"></a>"
   ]
  },
  {
   "cell_type": "code",
   "execution_count": 52,
   "metadata": {},
   "outputs": [],
   "source": [
    "rbs_rule_names_gen = [rule for rule in rbso.rules_to_keep if rule in rg.rule_names]\n",
    "rbs_rule_names_opt = [rule for rule in rbso.rules_to_keep if rule in ro.rule_names]"
   ]
  },
  {
   "cell_type": "code",
   "execution_count": 53,
   "metadata": {},
   "outputs": [],
   "source": [
    "rg.filter_rules(include=rbs_rule_names_gen)\n",
    "ro.filter_rules(include=rbs_rule_names_opt)"
   ]
  },
  {
   "cell_type": "markdown",
   "metadata": {},
   "source": [
    "----"
   ]
  },
  {
   "cell_type": "markdown",
   "metadata": {
    "tags": []
   },
   "source": [
    "## Evaluating the optimised RBS Pipeline <a name=\"ApplyPipeline\"></a>"
   ]
  },
  {
   "cell_type": "code",
   "execution_count": 54,
   "metadata": {},
   "outputs": [],
   "source": [
    "# Generated rules\n",
    "X_rules_gen_test = rg.transform(X=X_test)\n",
    "# Optimised rules (note we using the raw, unprocessed data here)\n",
    "X_rules_opt_test = ro.transform(X=X.loc[X_test.index])\n",
    "\n",
    "X_rules_test = pd.concat([\n",
    "    X_rules_gen_test, \n",
    "    X_rules_opt_test\n",
    "], axis=1)"
   ]
  },
  {
   "cell_type": "code",
   "execution_count": 57,
   "metadata": {},
   "outputs": [
    {
     "name": "stdout",
     "output_type": "stream",
     "text": [
      "              precision    recall  f1-score   support\n",
      "\n",
      "         0.0     0.9961    0.9997    0.9979      3881\n",
      "         1.0     0.9886    0.8529    0.9158       102\n",
      "\n",
      "    accuracy                         0.9960      3983\n",
      "   macro avg     0.9924    0.9263    0.9569      3983\n",
      "weighted avg     0.9960    0.9960    0.9958      3983\n",
      "\n"
     ]
    }
   ],
   "source": [
    "opt_pipe_pred_test = rbso.predict(X_rules=X_rules_test)\n",
    "\n",
    "print(\n",
    "    classification_report(\n",
    "        y_true=y_test, \n",
    "        y_pred=opt_pipe_pred_test, \n",
    "        digits=4\n",
    "    )\n",
    ")"
   ]
  },
  {
   "cell_type": "code",
   "execution_count": 58,
   "metadata": {},
   "outputs": [
    {
     "data": {
      "text/plain": [
       "<sklearn.metrics._plot.confusion_matrix.ConfusionMatrixDisplay at 0x1992c8e0e50>"
      ]
     },
     "execution_count": 58,
     "metadata": {},
     "output_type": "execute_result"
    },
    {
     "data": {
      "image/png": "[encoded data removed]",
      "text/plain": [
       "<Figure size 432x288 with 2 Axes>"
      ]
     },
     "metadata": {},
     "output_type": "display_data"
    }
   ],
   "source": [
    "cm = ConfusionMatrixDisplay(\n",
    "    confusion_matrix(\n",
    "        y_true=y_test, \n",
    "        y_pred=opt_pipe_pred_test\n",
    "    )\n",
    ")\n",
    "cm.plot()"
   ]
  },
  {
   "cell_type": "code",
   "execution_count": 59,
   "metadata": {},
   "outputs": [
    {
     "data": {
      "text/plain": [
       "[(1,\n",
       "  ['RGDT_Rule256',\n",
       "   'RGDT_Rule35',\n",
       "   'RGDT_Rule313',\n",
       "   'RGDT_Rule24',\n",
       "   'RGDT_Rule153',\n",
       "   'RGDT_Rule_20220803_23',\n",
       "   'RGDT_Rule137'])]"
      ]
     },
     "execution_count": 59,
     "metadata": {},
     "output_type": "execute_result"
    }
   ],
   "source": [
    "rbso.config"
   ]
  },
  {
   "cell_type": "markdown",
   "metadata": {},
   "source": [
    "---"
   ]
  },
  {
   "cell_type": "markdown",
   "metadata": {},
   "source": [
    "## Convert generated rule conditions to system-ready <a name=\"ConvertGenToSys\"></a>"
   ]
  },
  {
   "cell_type": "code",
   "execution_count": 63,
   "metadata": {},
   "outputs": [],
   "source": [
    "rm = ReturnMappings()\n",
    "\n",
    "imputed_values_mapping = rm.return_imputed_values_mapping(\n",
    "    [num_cols, -1], \n",
    "    [cat_cols, 'missing'], \n",
    "    [bool_cols, 'missing']\n",
    ")\n",
    "\n",
    "ohe_categories_mapping = rm.return_ohe_categories_mapping(\n",
    "    pre_ohe_cols=X.columns, \n",
    "    post_ohe_cols=X_train.columns, \n",
    "    pre_ohe_dtypes=X.dtypes\n",
    ")\n",
    "\n",
    "conv_gen_rules = ConvertProcessedConditionsToGeneral(\n",
    "    imputed_values=imputed_values_mapping, \n",
    "    ohe_categories=ohe_categories_mapping\n",
    ")\n",
    "\n",
    "conv_gen_rule_strings = conv_gen_rules.convert(\n",
    "    rule_strings=rg.rule_strings, \n",
    "    X=X_train\n",
    ")"
   ]
  },
  {
   "cell_type": "markdown",
   "metadata": {},
   "source": [
    "---"
   ]
  },
  {
   "cell_type": "markdown",
   "metadata": {},
   "source": [
    "## Our final rule set and RBS Pipeline <a name=\"FinalRuleSet\"></a>"
   ]
  },
  {
   "cell_type": "code",
   "execution_count": 68,
   "metadata": {},
   "outputs": [],
   "source": [
    "rbs_rule_strings = {}\n",
    "rbs_rule_strings.update(conv_gen_rule_strings)\n",
    "rbs_rule_strings.update(ro.rule_strings)\n",
    "\n",
    "rbs_rules = Rules(rule_strings=rbs_rule_strings)"
   ]
  },
  {
   "cell_type": "code",
   "execution_count": 70,
   "metadata": {},
   "outputs": [
    {
     "data": {
      "text/plain": [
       "{'RGDT_Rule_20220803_23': \"(X['account_number_num_fraud_transactions_per_account_number_7day']>=1)&(X['account_number_num_order_items_per_account_number_30day']>=9)&(X['account_number_sum_order_total_per_account_number_7day']>1020.59499)\",\n",
       " 'RGDT_Rule137': \"((X['account_number_avg_order_total_per_account_number_7day']<=317.69)|(X['account_number_avg_order_total_per_account_number_7day'].isna()))&(X['account_number_num_fraud_transactions_per_account_number_1day']>=1)&(X['account_number_num_fraud_transactions_per_account_number_90day']>=1)&((X['account_number_sum_order_total_per_account_number_1day']<=782.375)|(X['account_number_sum_order_total_per_account_number_1day'].isna()))\",\n",
       " 'RGDT_Rule256': \"(X['account_number_num_fraud_transactions_per_account_number_1day']>=1)&((X['account_number_sum_order_total_per_account_number_90day']<=950.89999)|(X['account_number_sum_order_total_per_account_number_90day'].isna()))&(X['is_billing_shipping_city_same']==False)\",\n",
       " 'RGDT_Rule35': \"(X['account_number_num_fraud_transactions_per_account_number_7day']>=1)&(X['account_number_num_fraud_transactions_per_account_number_lifetime']>=1)&((X['account_number_num_order_items_per_account_number_lifetime']<=5)|(X['account_number_num_order_items_per_account_number_lifetime'].isna()))&(X['is_existing_user']==True)\",\n",
       " 'RGDT_Rule313': \"(X['account_number_num_fraud_transactions_per_account_number_1day']>=1)&(X['account_number_sum_order_total_per_account_number_30day']>957.84998)&(X['account_number_sum_order_total_per_account_number_90day']>622.19)&(X['is_existing_user']==True)\",\n",
       " 'RGDT_Rule153': \"(X['account_number_avg_order_total_per_account_number_90day']>482.39583)&(X['account_number_num_fraud_transactions_per_account_number_1day']>=1)&(X['account_number_num_order_items_per_account_number_lifetime']>=3)&((X['order_total']<=905.97501)|(X['order_total'].isna()))\",\n",
       " 'RGDT_Rule24': \"(X['account_number_avg_order_total_per_account_number_90day']>373.3460500280737)&(X['account_number_num_fraud_transactions_per_account_number_lifetime']>=2)&((X['account_number_num_order_items_per_account_number_lifetime']<=11)|(X['account_number_num_order_items_per_account_number_lifetime'].isna()))&((X['account_number_sum_order_total_per_account_number_7day']<=3411.7488220243436)|(X['account_number_sum_order_total_per_account_number_7day'].isna()))\"}"
      ]
     },
     "execution_count": 70,
     "metadata": {},
     "output_type": "execute_result"
    }
   ],
   "source": [
    "rbs_rules.rule_strings"
   ]
  },
  {
   "cell_type": "code",
   "execution_count": 71,
   "metadata": {},
   "outputs": [
    {
     "data": {
      "text/plain": [
       "[(1,\n",
       "  ['RGDT_Rule256',\n",
       "   'RGDT_Rule35',\n",
       "   'RGDT_Rule313',\n",
       "   'RGDT_Rule24',\n",
       "   'RGDT_Rule153',\n",
       "   'RGDT_Rule_20220803_23',\n",
       "   'RGDT_Rule137'])]"
      ]
     },
     "execution_count": 71,
     "metadata": {},
     "output_type": "execute_result"
    }
   ],
   "source": [
    "rbso.config"
   ]
  },
  {
   "cell_type": "markdown",
   "metadata": {},
   "source": [
    "---"
   ]
  },
  {
   "cell_type": "markdown",
   "metadata": {},
   "source": [
    "### Inference"
   ]
  },
  {
   "cell_type": "code",
   "execution_count": 85,
   "metadata": {},
   "outputs": [],
   "source": [
    "# input values for inference\n",
    "\n",
    "avg_order_total_1day = 162.95\n",
    "avg_order_total_7day= 162.95\n",
    "avg_order_total_30day = 162.95\n",
    "avg_order_total_90day = 162.95\n",
    "\n",
    "num_distinct_transactions_1day = 1\n",
    "num_distinct_transactions_7day = 1\n",
    "num_distinct_transactions_30day = 1\n",
    "num_distinct_transactions_90day = 1\n",
    "\n",
    "num_fraud_transactions_1day = 0\n",
    "num_fraud_transactions_7day = 0\n",
    "num_fraud_transactions_30day =0\n",
    "num_fraud_transactions_90day = 0\n",
    "num_fraud_transactions_lifetime = 1\n",
    "\n",
    "num_order_items_1day = 1\n",
    "num_order_items_7day = 1\n",
    "num_order_items_30day = 1\n",
    "num_order_items_90day = 1\n",
    "num_order_items_lifetime = 3\n",
    "\n",
    "sum_order_total_1day = 162.95\n",
    "sum_order_total_7day= 162.95\n",
    "sum_order_total_30day = 162.95\n",
    "sum_order_total_90day = 162.95\n",
    "\n",
    "is_billing_shipping_city_same = 1\n",
    "is_existing_user = 1\n",
    "n_order_items = 2\n",
    "order_total = 162.95\n",
    "\n",
    "status_New = 1\n",
    "status_Pending = 0\n",
    "status_missing = 0\n",
    "\n",
    "inputs =pd.DataFrame([[\n",
    "    avg_order_total_1day,\n",
    "    avg_order_total_7day,\n",
    "    avg_order_total_30day,\n",
    "    avg_order_total_90day,\n",
    "    num_distinct_transactions_1day,\n",
    "    num_distinct_transactions_7day,\n",
    "    num_distinct_transactions_30day,\n",
    "    num_distinct_transactions_90day,\n",
    "    num_fraud_transactions_1day,\n",
    "    num_fraud_transactions_7day,\n",
    "    num_fraud_transactions_30day,\n",
    "    num_fraud_transactions_90day,\n",
    "    num_fraud_transactions_lifetime,\n",
    "    num_order_items_1day,\n",
    "    num_order_items_7day,\n",
    "    num_order_items_30day,\n",
    "    num_order_items_90day,\n",
    "    num_order_items_lifetime,\n",
    "    sum_order_total_1day,\n",
    "    sum_order_total_7day,\n",
    "    sum_order_total_30day,\n",
    "    sum_order_total_90day,\n",
    "    is_billing_shipping_city_same,\n",
    "    is_existing_user,\n",
    "    n_order_items,\n",
    "    order_total,\n",
    "    status_New,\n",
    "    status_Pending,\n",
    "    status_missing\n",
    "]], columns = X_train.columns)\n"
   ]
  },
  {
   "cell_type": "code",
   "execution_count": 86,
   "metadata": {},
   "outputs": [
    {
     "data": {
      "text/plain": [
       "(1, 29)"
      ]
     },
     "execution_count": 86,
     "metadata": {},
     "output_type": "execute_result"
    }
   ],
   "source": [
    "inputs.shape"
   ]
  },
  {
   "cell_type": "code",
   "execution_count": 90,
   "metadata": {},
   "outputs": [
    {
     "data": {
      "text/plain": [
       "0"
      ]
     },
     "execution_count": 90,
     "metadata": {},
     "output_type": "execute_result"
    }
   ],
   "source": [
    "inference_generated_rules = rg.transform(X=inputs)\n",
    "inference_optimized_rules = ro.transform(X=inputs)\n",
    "\n",
    "inference_rules = pd.concat([inference_generated_rules, inference_optimized_rules], axis=1)\n",
    "\n",
    "rbso.predict(inference_rules)[0]"
   ]
  },
  {
   "cell_type": "markdown",
   "metadata": {},
   "source": [
    "### Saving the Models"
   ]
  },
  {
   "cell_type": "code",
   "execution_count": 98,
   "metadata": {},
   "outputs": [
    {
     "ename": "AttributeError",
     "evalue": "Can't pickle local object '_ConvertRuleDictsToRuleStrings._convert_to_lambda.<locals>._make_lambda.<locals>.<lambda>'",
     "output_type": "error",
     "traceback": [
      "\u001b[1;31m---------------------------------------------------------------------------\u001b[0m",
      "\u001b[1;31mAttributeError\u001b[0m                            Traceback (most recent call last)",
      "\u001b[1;32mc:\\Users\\amvar\\git\\fraud-detection-expert-system\\fraud-detection-es.ipynb Cell 104\u001b[0m in \u001b[0;36m<cell line: 5>\u001b[1;34m()\u001b[0m\n\u001b[0;32m      <a href='vscode-notebook-cell:/c%3A/Users/amvar/git/fraud-detection-expert-system/fraud-detection-es.ipynb#ch0000202?line=1'>2</a>\u001b[0m     \u001b[39mreturn\u001b[39;00m rg\n\u001b[0;32m      <a href='vscode-notebook-cell:/c%3A/Users/amvar/git/fraud-detection-expert-system/fraud-detection-es.ipynb#ch0000202?line=3'>4</a>\u001b[0m pickle_out \u001b[39m=\u001b[39m \u001b[39mopen\u001b[39m(\u001b[39m\"\u001b[39m\u001b[39mmodels/rg.pkl\u001b[39m\u001b[39m\"\u001b[39m,\u001b[39m\"\u001b[39m\u001b[39mwb\u001b[39m\u001b[39m\"\u001b[39m)\n\u001b[1;32m----> <a href='vscode-notebook-cell:/c%3A/Users/amvar/git/fraud-detection-expert-system/fraud-detection-es.ipynb#ch0000202?line=4'>5</a>\u001b[0m pickle\u001b[39m.\u001b[39;49mdump(rg, pickle_out)\n\u001b[0;32m      <a href='vscode-notebook-cell:/c%3A/Users/amvar/git/fraud-detection-expert-system/fraud-detection-es.ipynb#ch0000202?line=5'>6</a>\u001b[0m pickle_out\u001b[39m.\u001b[39mclose()\n",
      "\u001b[1;31mAttributeError\u001b[0m: Can't pickle local object '_ConvertRuleDictsToRuleStrings._convert_to_lambda.<locals>._make_lambda.<locals>.<lambda>'"
     ]
    }
   ],
   "source": [
    "def get_rg():\n",
    "    return rg\n",
    "\n",
    "pickle_out = open(\"models/rg.pkl\",\"wb\")\n",
    "pickle.dump(rg, pickle_out)\n",
    "pickle_out.close()"
   ]
  },
  {
   "cell_type": "code",
   "execution_count": 96,
   "metadata": {},
   "outputs": [],
   "source": [
    "def get_ro():\n",
    "    return ro\n",
    "\n",
    "pickle_out = open(\"models/ro.pkl\",\"wb\")\n",
    "pickle.dump(get_ro, pickle_out)\n",
    "pickle_out.close()"
   ]
  },
  {
   "cell_type": "code",
   "execution_count": 97,
   "metadata": {},
   "outputs": [],
   "source": [
    "def get_rbso():\n",
    "    return rbso\n",
    "\n",
    "pickle_out = open(\"models/rbso.pkl\",\"wb\")\n",
    "pickle.dump(get_rbso, pickle_out)\n",
    "pickle_out.close()"
   ]
  }
 ],
 "metadata": {
  "kernelspec": {
   "display_name": "Python 3.9.7 64-bit",
   "language": "python",
   "name": "python3"
  },
  "language_info": {
   "codemirror_mode": {
    "name": "ipython",
    "version": 3
   },
   "file_extension": ".py",
   "mimetype": "text/x-python",
   "name": "python",
   "nbconvert_exporter": "python",
   "pygments_lexer": "ipython3",
   "version": "3.9.7"
  },
  "vscode": {
   "interpreter": {
    "hash": "e95025a667c06fc03c1f247fe462092ef5e72850f08ad8a8450c72e87c35dfd7"
   }
  }
 },
 "nbformat": 4,
 "nbformat_minor": 4
}
